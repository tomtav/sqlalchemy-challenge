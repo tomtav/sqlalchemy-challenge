{
 "cells": [
  {
   "cell_type": "markdown",
   "metadata": {},
   "source": [
    "### Import dependencies"
   ]
  },
  {
   "cell_type": "code",
   "execution_count": 1,
   "metadata": {},
   "outputs": [],
   "source": [
    "import numpy as np\n",
    "import pandas as pd\n",
    "from datetime import datetime, timedelta"
   ]
  },
  {
   "cell_type": "markdown",
   "metadata": {},
   "source": [
    "### Import plotting library"
   ]
  },
  {
   "cell_type": "code",
   "execution_count": 2,
   "metadata": {},
   "outputs": [],
   "source": [
    "from matplotlib import style\n",
    "style.use('fivethirtyeight')\n",
    "import matplotlib.pyplot as plt"
   ]
  },
  {
   "cell_type": "markdown",
   "metadata": {},
   "source": [
    "### Reflect Tables into SQLAlchemy ORM"
   ]
  },
  {
   "cell_type": "code",
   "execution_count": 3,
   "metadata": {},
   "outputs": [],
   "source": [
    "# Python SQL toolkit and Object Relational Mapper\n",
    "import sqlalchemy\n",
    "from sqlalchemy.ext.automap import automap_base\n",
    "from sqlalchemy.orm import Session\n",
    "from sqlalchemy import create_engine, func, and_, desc, extract"
   ]
  },
  {
   "cell_type": "code",
   "execution_count": 4,
   "metadata": {},
   "outputs": [],
   "source": [
    "# create connection to database\n",
    "engine = create_engine(\"sqlite:///data/hawaii.sqlite\")"
   ]
  },
  {
   "cell_type": "code",
   "execution_count": 5,
   "metadata": {},
   "outputs": [],
   "source": [
    "# reflect an existing database into a new model\n",
    "Model = automap_base()"
   ]
  },
  {
   "cell_type": "code",
   "execution_count": 6,
   "metadata": {},
   "outputs": [],
   "source": [
    "# reflect the tables\n",
    "Model.prepare(engine, reflect=True)"
   ]
  },
  {
   "cell_type": "code",
   "execution_count": 7,
   "metadata": {},
   "outputs": [
    {
     "data": {
      "text/plain": [
       "['measurement', 'station']"
      ]
     },
     "execution_count": 7,
     "metadata": {},
     "output_type": "execute_result"
    }
   ],
   "source": [
    "# We can view all of the classes that automap found\n",
    "Model.classes.keys()"
   ]
  },
  {
   "cell_type": "markdown",
   "metadata": {},
   "source": [
    "### Save references to each table"
   ]
  },
  {
   "cell_type": "code",
   "execution_count": 8,
   "metadata": {},
   "outputs": [],
   "source": [
    "# create python classes by extending the existing database models\n",
    "# use a nicer representation of the class instances\n",
    "\n",
    "class Measurement(Model):\n",
    "    __tablename__ = 'measurement'\n",
    "\n",
    "    def __repr__(self):\n",
    "        return \"<{}(station='{}', date='{}', prcp='{}', tobs='{}')>\".\\\n",
    "                format(self.__class__.__name__, self.station, self.date, self.prcp, self.tobs)\n",
    "\n",
    "class Station(Model):\n",
    "    __tablename__ = 'station'\n",
    "\n",
    "    def __repr__(self):\n",
    "        return \"<{}(station='{}', name='{}', latitude='{}', longitude='{}', elevation='{}')>\".\\\n",
    "                format(self.__class__.__name__, self.station, self.name, self.latitude, self.longitude, self.elevation)\n"
   ]
  },
  {
   "cell_type": "code",
   "execution_count": 9,
   "metadata": {},
   "outputs": [],
   "source": [
    "# reflect the tables\n",
    "Model.prepare(engine, reflect=True)"
   ]
  },
  {
   "cell_type": "code",
   "execution_count": 10,
   "metadata": {},
   "outputs": [],
   "source": [
    "# Create our session (link) from Python to the DB\n",
    "session = Session(engine)"
   ]
  },
  {
   "cell_type": "markdown",
   "metadata": {},
   "source": [
    "### Exploratory Climate Analysis"
   ]
  },
  {
   "cell_type": "code",
   "execution_count": 11,
   "metadata": {
    "scrolled": true
   },
   "outputs": [
    {
     "data": {
      "image/png": "[encoded data removed]",
      "text/plain": [
       "<Figure size 432x288 with 1 Axes>"
      ]
     },
     "metadata": {
      "needs_background": "light"
     },
     "output_type": "display_data"
    }
   ],
   "source": [
    "# Design a query to retrieve the last 12 months of precipitation data and plot the results\n",
    "\n",
    "# Calculate the date 1 year ago from the last data point in the database\n",
    "last_date_reported = session.query(func.max(Measurement.date)).scalar()\n",
    "last_year = datetime.strptime(last_date_reported, '%Y-%m-%d') - timedelta(365)\n",
    "\n",
    "# Perform a query to retrieve the date and precipitation scores\n",
    "results = session.query(Measurement.date, Measurement.prcp).\\\n",
    "                  filter(Measurement.date >= last_year).\\\n",
    "                  all()\n",
    "\n",
    "# Save the query results as a Pandas DataFrame and set the index to the date column\n",
    "df = pd.DataFrame([ ( row.date, row.prcp ) for row in results ], \n",
    "                  columns=['date', 'percipitation'] ).set_index('date')\n",
    "\n",
    "# Fill in any missing percipitation values with 0\n",
    "df.fillna(value=0, inplace=True)\n",
    "\n",
    "# Check if there are any duplicate records\n",
    "df.reset_index().duplicated().value_counts()\n",
    "\n",
    "# Sort the dataframe by date\n",
    "df.sort_values(by='date', ascending=True, inplace=True)\n",
    "\n",
    "# Use Pandas Plotting with Matplotlib to plot the data\n",
    "ax = df.plot(title='2016-2017 Percipitation Measurements\\n', rot=45)\n",
    "ax.set_xlabel('\\nDate')\n",
    "ax.set_ylabel('Inches\\n')\n",
    "plt.show()"
   ]
  },
  {
   "cell_type": "code",
   "execution_count": 12,
   "metadata": {},
   "outputs": [
    {
     "data": {
      "text/html": [
       "<div>\n",
       "<style scoped>\n",
       "    .dataframe tbody tr th:only-of-type {\n",
       "        vertical-align: middle;\n",
       "    }\n",
       "\n",
       "    .dataframe tbody tr th {\n",
       "        vertical-align: top;\n",
       "    }\n",
       "\n",
       "    .dataframe thead th {\n",
       "        text-align: right;\n",
       "    }\n",
       "</style>\n",
       "<table border=\"1\" class=\"dataframe\">\n",
       "  <thead>\n",
       "    <tr style=\"text-align: right;\">\n",
       "      <th></th>\n",
       "      <th>percipitation</th>\n",
       "    </tr>\n",
       "  </thead>\n",
       "  <tbody>\n",
       "    <tr>\n",
       "      <th>count</th>\n",
       "      <td>2223.000000</td>\n",
       "    </tr>\n",
       "    <tr>\n",
       "      <th>mean</th>\n",
       "      <td>0.159951</td>\n",
       "    </tr>\n",
       "    <tr>\n",
       "      <th>std</th>\n",
       "      <td>0.441220</td>\n",
       "    </tr>\n",
       "    <tr>\n",
       "      <th>min</th>\n",
       "      <td>0.000000</td>\n",
       "    </tr>\n",
       "    <tr>\n",
       "      <th>25%</th>\n",
       "      <td>0.000000</td>\n",
       "    </tr>\n",
       "    <tr>\n",
       "      <th>50%</th>\n",
       "      <td>0.010000</td>\n",
       "    </tr>\n",
       "    <tr>\n",
       "      <th>75%</th>\n",
       "      <td>0.110000</td>\n",
       "    </tr>\n",
       "    <tr>\n",
       "      <th>max</th>\n",
       "      <td>6.700000</td>\n",
       "    </tr>\n",
       "  </tbody>\n",
       "</table>\n",
       "</div>"
      ],
      "text/plain": [
       "       percipitation\n",
       "count    2223.000000\n",
       "mean        0.159951\n",
       "std         0.441220\n",
       "min         0.000000\n",
       "25%         0.000000\n",
       "50%         0.010000\n",
       "75%         0.110000\n",
       "max         6.700000"
      ]
     },
     "execution_count": 12,
     "metadata": {},
     "output_type": "execute_result"
    }
   ],
   "source": [
    "# Use Pandas to calcualte the summary statistics for the precipitation data\n",
    "df[['percipitation']].describe()"
   ]
  },
  {
   "cell_type": "code",
   "execution_count": 13,
   "metadata": {
    "scrolled": true
   },
   "outputs": [
    {
     "name": "stdout",
     "output_type": "stream",
     "text": [
      "There are 9 stations available in this dataset.\n"
     ]
    }
   ],
   "source": [
    "# Design a query to show how many stations are available in this dataset?\n",
    "# Station table joined to get station name in query\n",
    "q = session.query(Measurement.station, Station.name, func.count(Measurement.station)).\\\n",
    "            join(Station, Station.station == Measurement.station).\\\n",
    "            group_by(Measurement.station, Station.name).\\\n",
    "            order_by(desc(func.count(Measurement.station)))\n",
    "\n",
    "# query database            \n",
    "stations = q.all()\n",
    "\n",
    "print(f\"There are {len(stations)} stations available in this dataset.\")"
   ]
  },
  {
   "cell_type": "code",
   "execution_count": 41,
   "metadata": {},
   "outputs": [
    {
     "name": "stdout",
     "output_type": "stream",
     "text": [
      "\n",
      "   ID            Rows   Name of Station\n",
      "   ===========   ====   =======================================\n",
      "1) USC00519281   2772   WAIHEE 837.5, HI US\n",
      "2) USC00519397   2724   WAIKIKI 717.2, HI US\n",
      "3) USC00513117   2709   KANEOHE 838.1, HI US\n",
      "4) USC00519523   2669   WAIMANALO EXPERIMENTAL FARM, HI US\n",
      "5) USC00516128   2612   MANOA LYON ARBO 785.2, HI US\n",
      "6) USC00514830   2202   KUALOA RANCH HEADQUARTERS 886.9, HI US\n",
      "7) USC00511918   1979   HONOLULU OBSERVATORY 702.2, HI US\n",
      "8) USC00517948   1372   PEARL CITY, HI US\n",
      "9) USC00518838    511   UPPER WAHIAWA 874.3, HI US\n"
     ]
    }
   ],
   "source": [
    "# What are the most active stations? (i.e. what stations have the most rows)?\n",
    "# List the stations and the counts in descending order.\n",
    "counter = 0\n",
    "print()\n",
    "print('   ID            Rows   Name of Station')\n",
    "print('   ===========   ====   =======================================')\n",
    "for station in stations:\n",
    "    counter += 1\n",
    "    print(f\"{counter}) {station[0]}   {str(station[2]).rjust(4)}   {station[1]}\")"
   ]
  },
  {
   "cell_type": "code",
   "execution_count": 15,
   "metadata": {},
   "outputs": [
    {
     "name": "stdout",
     "output_type": "stream",
     "text": [
      "USC00519281 is the most active station with the following readings:\n",
      "Lowest Temperature Recorded  : 54.00\n",
      "Highest Temperature Recorded : 85.00\n",
      "Average Temperature          : 71.66\n"
     ]
    }
   ],
   "source": [
    "# Using the station id from the previous query, calculate the lowest temperature recorded, \n",
    "# highest temperature recorded, and average temperature of the most active station?\n",
    "station = session.query(Measurement.station, func.min(Measurement.tobs), func.max(Measurement.tobs), func.avg(Measurement.tobs)).\\\n",
    "                  filter(Measurement.station == q.first()[0]).\\\n",
    "                  first()\n",
    "lo_temp  = station[1]\n",
    "hi_temp  = station[2]\n",
    "avg_temp = station[3]\n",
    "\n",
    "print(f'{station[0]} is the most active station with the following readings:')\n",
    "print(f'Lowest Temperature Recorded  : { \"{0:.2f}\".format(lo_temp) }')\n",
    "print(f'Highest Temperature Recorded : { \"{0:.2f}\".format(hi_temp) }')\n",
    "print(f'Average Temperature          : { \"{0:.2f}\".format(avg_temp) }')"
   ]
  },
  {
   "cell_type": "code",
   "execution_count": 16,
   "metadata": {},
   "outputs": [
    {
     "data": {
      "image/png": "[encoded data removed]",
      "text/plain": [
       "<Figure size 432x288 with 1 Axes>"
      ]
     },
     "metadata": {
      "needs_background": "light"
     },
     "output_type": "display_data"
    }
   ],
   "source": [
    "# Choose the station with the highest number of temperature observations.\n",
    "# Query the last 12 months of temperature observation data for this station and plot the results as a histogram\n",
    "q = session.query(Measurement.tobs).filter(Measurement.station == stations[0][0])\n",
    "\n",
    "# Calculate the date 1 year ago from the last data point in the database\n",
    "last_date_reported = session.query(func.max(Measurement.date)).\\\n",
    "                             filter(Measurement.station == stations[0][0]).\\\n",
    "                             scalar()\n",
    "last_year = datetime.strptime(last_date_reported, '%Y-%m-%d') - timedelta(365)\n",
    "\n",
    "# Perform a query to retrieve the temperature readings\n",
    "results = q.filter(Measurement.date >= last_year).all()\n",
    "\n",
    "# Plot the data using a dataframe\n",
    "plt.hist([ row[0] for row in results ], bins=12, label='tobs')\n",
    "plt.ylabel('Frequency')\n",
    "plt.xlabel('Temperature')\n",
    "plt.legend(loc='best')\n",
    "plt.show()"
   ]
  },
  {
   "cell_type": "markdown",
   "metadata": {},
   "source": [
    "### Bonus Challenge Assignment"
   ]
  },
  {
   "cell_type": "code",
   "execution_count": 153,
   "metadata": {},
   "outputs": [],
   "source": [
    "# Identify the average temperature in June at all stations across all available years in the dataset. \n",
    "# Do the same for December temperature.\n",
    "jun_avg_temps = [avg for avg, in session.query(func.avg(Measurement.tobs)).\\\n",
    "                        group_by(extract('year', Measurement.date)).\\\n",
    "                        filter(extract('month', Measurement.date) == 6)]\n",
    "\n",
    "dec_avg_temps = [avg for avg, in session.query(func.avg(Measurement.tobs)).\\\n",
    "                        group_by(extract('year', Measurement.date)).\\\n",
    "                        filter(extract('month', Measurement.date) == 12)]"
   ]
  },
  {
   "cell_type": "code",
   "execution_count": 154,
   "metadata": {},
   "outputs": [
    {
     "name": "stdout",
     "output_type": "stream",
     "text": [
      "Number of years in June list 8\n",
      "Number of years in Decmeber list 7\n"
     ]
    }
   ],
   "source": [
    "print(f'Number of years in June list {len(jun_avg_temps)}')\n",
    "print(f'Number of years in Decmeber list {len(dec_avg_temps)}')"
   ]
  },
  {
   "cell_type": "markdown",
   "metadata": {},
   "source": [
    "## Statistical Analysis of June and December Temperatures\n",
    "I prefered the paired t-test because it was for the same stations and locations but at different times of the year. And show that therre is definitely a statistical difference in temperatures between June and December in Hawaii."
   ]
  },
  {
   "cell_type": "code",
   "execution_count": 161,
   "metadata": {},
   "outputs": [
    {
     "name": "stdout",
     "output_type": "stream",
     "text": [
      "Standard Deviation results:\n",
      "June Avg Temps STD : 0.9520395014046887\n",
      "Dec Avg Temps STD  : 1.0507861647830365\n",
      "\n",
      "Welch's t-test results:\n",
      "stat = 6.9218571747346616\n",
      "pValue = 1.4518830376438732e-05\n",
      "\n",
      "Paired t-test results:\n",
      "stat = 7.780060705002921\n",
      "pValue = 0.00023742611093245777\n",
      "\n"
     ]
    }
   ],
   "source": [
    "from scipy import stats\n",
    "\n",
    "print('Standard Deviation results:')\n",
    "print(f'June Avg Temps STD : {np.std(jun_avg_temps)}')\n",
    "print(f'Dec Avg Temps STD  : {np.std(dec_avg_temps)}')\n",
    "print()\n",
    "\n",
    "# Welch's t-test because the sample sizes are not equal\n",
    "statValue, pValue = stats.ttest_ind(jun_avg_temps, dec_avg_temps, equal_var=False)\n",
    "print('Welch\\'s t-test results:')\n",
    "print(f'stat = {statValue}')\n",
    "print(f'pValue = {pValue}')\n",
    "print()\n",
    "\n",
    "# Paired T-Test since they are for the same stations and locations at a different time\n",
    "jun_copy = jun_avg_temps[:]\n",
    "# paired tests require the same number of samples, \n",
    "# so dropping the last year (2017) from June average temperatures\n",
    "jun_copy.pop()\n",
    "statValue, pValue = stats.ttest_rel(jun_copy, dec_avg_temps)\n",
    "print('Paired t-test results:')\n",
    "print(f'stat = {statValue}')\n",
    "print(f'pValue = {pValue}')\n",
    "print()\n"
   ]
  },
  {
   "cell_type": "code",
   "execution_count": 17,
   "metadata": {},
   "outputs": [
    {
     "name": "stdout",
     "output_type": "stream",
     "text": [
      "(62.0, 69.57142857142857, 74.0)\n"
     ]
    }
   ],
   "source": [
    "# This function called `calc_temps` will accept start date and end date in the format '%Y-%m-%d' \n",
    "# and return the minimum, average, and maximum temperatures for that range of dates\n",
    "def calc_temps(start_date, end_date):\n",
    "    \"\"\"TMIN, TAVG, and TMAX for a list of dates.\n",
    "    \n",
    "    Args:\n",
    "        start_date (string): A date string in the format %Y-%m-%d\n",
    "        end_date (string): A date string in the format %Y-%m-%d\n",
    "        \n",
    "    Returns:\n",
    "        TMIN, TAVE, and TMAX\n",
    "    \"\"\"\n",
    "    \n",
    "    return session.query(func.min(Measurement.tobs), func.avg(Measurement.tobs), func.max(Measurement.tobs)).\\\n",
    "                   filter(Measurement.date.between(start_date, end_date)).first()\n",
    "\n",
    "# function usage example\n",
    "print(calc_temps('2012-02-28', '2012-03-05'))"
   ]
  },
  {
   "cell_type": "code",
   "execution_count": 18,
   "metadata": {},
   "outputs": [
    {
     "name": "stdout",
     "output_type": "stream",
     "text": [
      "Min Temperature: 70.00\n",
      "Max Temperature: 85.00\n",
      "Avg Temperature: 78.82\n"
     ]
    }
   ],
   "source": [
    "# Use your previous function `calc_temps` to calculate the tmin, tavg, and tmax \n",
    "# for your trip using the previous year's data for those same dates.\n",
    "trip_start_date = '2018-08-01'\n",
    "trip_start_calc = '2017-08-01'\n",
    "temp_min, temp_avg, temp_max = calc_temps(trip_start_calc, trip_start_date)\n",
    "temp_err = temp_max-temp_min\n",
    "\n",
    "print(f'Min Temperature: {\"{:.2f}\".format(temp_min)}')\n",
    "print(f'Max Temperature: {\"{:.2f}\".format(temp_max)}')\n",
    "print(f'Avg Temperature: {\"{:.2f}\".format(temp_avg)}')"
   ]
  },
  {
   "cell_type": "code",
   "execution_count": 19,
   "metadata": {},
   "outputs": [
    {
     "data": {
      "image/png": "[encoded data removed]",
      "text/plain": [
       "<Figure size 144x432 with 1 Axes>"
      ]
     },
     "metadata": {
      "needs_background": "light"
     },
     "output_type": "display_data"
    }
   ],
   "source": [
    "# Plot the results from your previous query as a bar chart. \n",
    "# Use \"Trip Avg Temp\" as your Title\n",
    "# Use the average temperature for the y value\n",
    "# Use the peak-to-peak (tmax-tmin) value as the y error bar (yerr)\n",
    "df = pd.DataFrame([temp_avg], columns=['avg'])\n",
    "\n",
    "df['avg'].plot(kind='bar',\n",
    "               yerr=temp_err,\n",
    "               color='red',\n",
    "               alpha=0.3,\n",
    "               edgecolor='black',\n",
    "               grid=True,\n",
    "               figsize=(2,6),\n",
    "               position=0.5,\n",
    "               error_kw=dict(ecolor='black',elinewidth=1, capsize=5, capthick=2),\n",
    "               width=0.8,\n",
    "              title='Trip Avg Temp')\n",
    "plt.ylabel('Temperature (F)')\n",
    "plt.ylim((0,100))\n",
    "plt.show()"
   ]
  },
  {
   "cell_type": "code",
   "execution_count": 63,
   "metadata": {},
   "outputs": [],
   "source": [
    "# Calculate the total amount of rainfall per weather station for your trip dates using the previous year's matching dates.\n",
    "# Sort this in descending order by precipitation amount and list the station, name, latitude, longitude, and elevation\n",
    "results = session.query(Station.station, \n",
    "                        Station.name, \n",
    "                        Station.latitude,\n",
    "                        Station.longitude,\n",
    "                        Station.elevation,\n",
    "                        func.sum(Measurement.prcp).label('percipitation')).\\\n",
    "                  join(Station, Station.station == Measurement.station).\\\n",
    "                  filter(Measurement.date.between(trip_start_calc, trip_start_date)).\\\n",
    "                  group_by(Measurement.station).\\\n",
    "                  order_by(desc(func.sum(Measurement.prcp))).\\\n",
    "                  all()\n"
   ]
  },
  {
   "cell_type": "code",
   "execution_count": 65,
   "metadata": {},
   "outputs": [
    {
     "name": "stdout",
     "output_type": "stream",
     "text": [
      "\n",
      "   ID            Total Rainfall   Name of Station                            LAT       LON      ELEV \n",
      "   ===========   ==============   =======================================   ======   =======   ======\n",
      "1) USC00516128   3.85                        MANOA LYON ARBO 785.2, HI US   21.33    -157.80   152.40\n",
      "2) USC00519281   0.57                                 WAIHEE 837.5, HI US   21.45    -157.85   32.90\n",
      "3) USC00514830   0.36              KUALOA RANCH HEADQUARTERS 886.9, HI US   21.52    -157.84   7.00 \n",
      "4) USC00519523   0.34                  WAIMANALO EXPERIMENTAL FARM, HI US   21.34    -157.71   19.50\n",
      "5) USC00519397   0.06                                WAIKIKI 717.2, HI US   21.27    -157.82   3.00 \n"
     ]
    }
   ],
   "source": [
    "counter = 0\n",
    "print()\n",
    "print('   ID            Total Rainfall   Name of Station                            LAT       LON      ELEV ')\n",
    "print('   ===========   ==============   =======================================   ======   =======   ======')\n",
    "for station in results:\n",
    "    counter += 1\n",
    "    print(f\"{counter}) {station[0]}   {'{:.2f}'.format(station[5]).ljust(13)}   {station[1].rjust(40)}   {'{:.2f}'.format(station[2]).ljust(5)}    {'{:.2f}'.format(station[3]).ljust(5)}   {'{:.2f}'.format(station[4]).ljust(5)}\")"
   ]
  },
  {
   "cell_type": "code",
   "execution_count": 66,
   "metadata": {},
   "outputs": [
    {
     "data": {
      "text/plain": [
       "[(62.0, 69.15384615384616, 77.0)]"
      ]
     },
     "execution_count": 66,
     "metadata": {},
     "output_type": "execute_result"
    }
   ],
   "source": [
    "# Create a query that will calculate the daily normals \n",
    "# (i.e. the averages for tmin, tmax, and tavg for all historic data matching a specific month and day)\n",
    "\n",
    "def daily_normals(date):\n",
    "    \"\"\"Daily Normals.\n",
    "    \n",
    "    Args:\n",
    "        date (str): A date string in the format '%m-%d'\n",
    "        \n",
    "    Returns:\n",
    "        A list of tuples containing the daily normals, tmin, tavg, and tmax\n",
    "    \n",
    "    \"\"\"\n",
    "    \n",
    "    sel = [func.min(Measurement.tobs), func.avg(Measurement.tobs), func.max(Measurement.tobs)]\n",
    "    return session.query(*sel).filter(func.strftime(\"%m-%d\", Measurement.date) == date).all()\n",
    "    \n",
    "daily_normals(\"01-01\")"
   ]
  },
  {
   "cell_type": "code",
   "execution_count": 67,
   "metadata": {},
   "outputs": [],
   "source": [
    "# calculate the daily normals for your trip\n",
    "# push each tuple of calculations into a list called `normals`\n",
    "normals = []\n",
    "# Set the start and end date of the trip\n",
    "start_date = '2017-08-01'\n",
    "end_date = '2018-08-01'\n",
    "# Use the start and end date to create a range of dates\n",
    "day1 = datetime.strptime(start_date, '%Y-%m-%d')\n",
    "day2 = datetime.strptime(end_date, '%Y-%m-%d')\n",
    "delta = day2-day1\n",
    "trip_dates = days = [ (day1 + timedelta(days=i)).strftime('%Y-%m-%d') for i in range(delta.days) ]\n",
    "# Stip off the year and save a list of %m-%d strings\n",
    "days = [ (day1 + timedelta(days=i)).strftime('%m-%d') for i in range(delta.days) ]\n",
    "\n",
    "# Loop through the list of %m-%d strings and calculate the normals for each date\n",
    "for day in days:\n",
    "    normals.append(daily_normals(day)[0])"
   ]
  },
  {
   "cell_type": "code",
   "execution_count": 68,
   "metadata": {},
   "outputs": [
    {
     "name": "stdout",
     "output_type": "stream",
     "text": [
      "(365, 3)\n"
     ]
    },
    {
     "data": {
      "text/html": [
       "<div>\n",
       "<style scoped>\n",
       "    .dataframe tbody tr th:only-of-type {\n",
       "        vertical-align: middle;\n",
       "    }\n",
       "\n",
       "    .dataframe tbody tr th {\n",
       "        vertical-align: top;\n",
       "    }\n",
       "\n",
       "    .dataframe thead th {\n",
       "        text-align: right;\n",
       "    }\n",
       "</style>\n",
       "<table border=\"1\" class=\"dataframe\">\n",
       "  <thead>\n",
       "    <tr style=\"text-align: right;\">\n",
       "      <th></th>\n",
       "      <th>min</th>\n",
       "      <th>avg</th>\n",
       "      <th>max</th>\n",
       "    </tr>\n",
       "  </thead>\n",
       "  <tbody>\n",
       "    <tr>\n",
       "      <th>2018-07-31</th>\n",
       "      <td>72.0</td>\n",
       "      <td>77.035714</td>\n",
       "      <td>83.0</td>\n",
       "    </tr>\n",
       "    <tr>\n",
       "      <th>2018-07-30</th>\n",
       "      <td>69.0</td>\n",
       "      <td>77.351852</td>\n",
       "      <td>84.0</td>\n",
       "    </tr>\n",
       "    <tr>\n",
       "      <th>2018-07-29</th>\n",
       "      <td>69.0</td>\n",
       "      <td>76.470588</td>\n",
       "      <td>83.0</td>\n",
       "    </tr>\n",
       "    <tr>\n",
       "      <th>2018-07-28</th>\n",
       "      <td>69.0</td>\n",
       "      <td>76.464286</td>\n",
       "      <td>82.0</td>\n",
       "    </tr>\n",
       "    <tr>\n",
       "      <th>2018-07-27</th>\n",
       "      <td>68.0</td>\n",
       "      <td>76.581818</td>\n",
       "      <td>83.0</td>\n",
       "    </tr>\n",
       "  </tbody>\n",
       "</table>\n",
       "</div>"
      ],
      "text/plain": [
       "             min        avg   max\n",
       "2018-07-31  72.0  77.035714  83.0\n",
       "2018-07-30  69.0  77.351852  84.0\n",
       "2018-07-29  69.0  76.470588  83.0\n",
       "2018-07-28  69.0  76.464286  82.0\n",
       "2018-07-27  68.0  76.581818  83.0"
      ]
     },
     "execution_count": 68,
     "metadata": {},
     "output_type": "execute_result"
    }
   ],
   "source": [
    "# Load the previous query results into a Pandas DataFrame and add the `trip_dates` range as the `date` index\n",
    "norm_df = pd.DataFrame(normals, columns=['min','avg','max'], index=trip_dates)\n",
    "norm_df.sort_index(ascending=False, inplace=True)\n",
    "print(norm_df.shape)\n",
    "norm_df.head()"
   ]
  },
  {
   "cell_type": "code",
   "execution_count": 69,
   "metadata": {},
   "outputs": [
    {
     "data": {
      "image/png": "[encoded data removed]",
      "text/plain": [
       "<Figure size 432x288 with 1 Axes>"
      ]
     },
     "metadata": {
      "needs_background": "light"
     },
     "output_type": "display_data"
    }
   ],
   "source": [
    "# Plot the daily normals as an area plot with `stacked=False`\n",
    "norm_df.plot.area(stacked=False, rot=45)\n",
    "plt.ylabel('Temperature (F)')\n",
    "plt.xlabel('Date')\n",
    "plt.legend(loc='best')\n",
    "plt.show()"
   ]
  },
  {
   "cell_type": "code",
   "execution_count": null,
   "metadata": {},
   "outputs": [],
   "source": []
  }
 ],
 "metadata": {
  "kernel_info": {
   "name": "python3"
  },
  "kernelspec": {
   "display_name": "Python 3",
   "language": "python",
   "name": "python3"
  },
  "language_info": {
   "codemirror_mode": {
    "name": "ipython",
    "version": 3
   },
   "file_extension": ".py",
   "mimetype": "text/x-python",
   "name": "python",
   "nbconvert_exporter": "python",
   "pygments_lexer": "ipython3",
   "version": "3.7.6"
  },
  "nteract": {
   "version": "0.12.3"
  },
  "varInspector": {
   "cols": {
    "lenName": 16,
    "lenType": 16,
    "lenVar": 40
   },
   "kernels_config": {
    "python": {
     "delete_cmd_postfix": "",
     "delete_cmd_prefix": "del ",
     "library": "var_list.py",
     "varRefreshCmd": "print(var_dic_list())"
    },
    "r": {
     "delete_cmd_postfix": ") ",
     "delete_cmd_prefix": "rm(",
     "library": "var_list.r",
     "varRefreshCmd": "cat(var_dic_list()) "
    }
   },
   "types_to_exclude": [
    "module",
    "function",
    "builtin_function_or_method",
    "instance",
    "_Feature"
   ],
   "window_display": false
  }
 },
 "nbformat": 4,
 "nbformat_minor": 2
}
